{
 "cells": [
  {
   "cell_type": "code",
   "execution_count": 2,
   "metadata": {
    "collapsed": true
   },
   "outputs": [],
   "source": [
    "from __future__ import division\n",
    "import pandas as pd\n",
    "import matplotlib.pyplot as plt\n",
    "import sklearn as sk\n",
    "import numpy as np"
   ]
  },
  {
   "cell_type": "code",
   "execution_count": 5,
   "metadata": {
    "collapsed": false
   },
   "outputs": [],
   "source": [
    "try:\n",
    "    train_data = pd.read_csv(\"numerai_training_data.csv\")\n",
    "    test_data = pd.read_csv(\"numerai_tournament_data.csv\")\n",
    "except:\n",
    "    try:\n",
    "        train_data = pd.read_csv(\"numerai_training_data_limited.csv\")\n",
    "        test_data = pd.read_csv(\"numerai_tournament_data_limited.csv\")\n",
    "    except:\n",
    "        print \"error - pure sadness. you have no data files in this directory\"\n",
    "    "
   ]
  },
  {
   "cell_type": "code",
   "execution_count": 6,
   "metadata": {
    "collapsed": false
   },
   "outputs": [
    {
     "data": {
      "text/html": [
       "<div>\n",
       "<table border=\"1\" class=\"dataframe\">\n",
       "  <thead>\n",
       "    <tr style=\"text-align: right;\">\n",
       "      <th></th>\n",
       "      <th>feature1</th>\n",
       "      <th>feature2</th>\n",
       "      <th>feature3</th>\n",
       "      <th>feature4</th>\n",
       "      <th>feature5</th>\n",
       "      <th>feature6</th>\n",
       "      <th>feature7</th>\n",
       "      <th>feature8</th>\n",
       "      <th>feature9</th>\n",
       "      <th>feature10</th>\n",
       "      <th>...</th>\n",
       "      <th>feature42</th>\n",
       "      <th>feature43</th>\n",
       "      <th>feature44</th>\n",
       "      <th>feature45</th>\n",
       "      <th>feature46</th>\n",
       "      <th>feature47</th>\n",
       "      <th>feature48</th>\n",
       "      <th>feature49</th>\n",
       "      <th>feature50</th>\n",
       "      <th>target</th>\n",
       "    </tr>\n",
       "  </thead>\n",
       "  <tbody>\n",
       "    <tr>\n",
       "      <th>0</th>\n",
       "      <td>0.360233</td>\n",
       "      <td>0.400324</td>\n",
       "      <td>0.376192</td>\n",
       "      <td>0.625575</td>\n",
       "      <td>0.578128</td>\n",
       "      <td>0.456694</td>\n",
       "      <td>0.366812</td>\n",
       "      <td>0.354266</td>\n",
       "      <td>0.498456</td>\n",
       "      <td>0.539569</td>\n",
       "      <td>...</td>\n",
       "      <td>0.538909</td>\n",
       "      <td>0.447431</td>\n",
       "      <td>0.544526</td>\n",
       "      <td>0.574966</td>\n",
       "      <td>0.382544</td>\n",
       "      <td>0.465450</td>\n",
       "      <td>0.336393</td>\n",
       "      <td>0.577600</td>\n",
       "      <td>0.716399</td>\n",
       "      <td>1.0</td>\n",
       "    </tr>\n",
       "    <tr>\n",
       "      <th>1</th>\n",
       "      <td>0.524941</td>\n",
       "      <td>0.562669</td>\n",
       "      <td>0.594656</td>\n",
       "      <td>0.691748</td>\n",
       "      <td>0.780364</td>\n",
       "      <td>0.507443</td>\n",
       "      <td>0.473722</td>\n",
       "      <td>0.499549</td>\n",
       "      <td>0.668819</td>\n",
       "      <td>0.289693</td>\n",
       "      <td>...</td>\n",
       "      <td>0.422837</td>\n",
       "      <td>0.174319</td>\n",
       "      <td>0.511849</td>\n",
       "      <td>0.681012</td>\n",
       "      <td>0.506451</td>\n",
       "      <td>0.428276</td>\n",
       "      <td>0.408187</td>\n",
       "      <td>0.721181</td>\n",
       "      <td>0.738231</td>\n",
       "      <td>1.0</td>\n",
       "    </tr>\n",
       "    <tr>\n",
       "      <th>2</th>\n",
       "      <td>0.375577</td>\n",
       "      <td>0.343138</td>\n",
       "      <td>0.442795</td>\n",
       "      <td>0.549371</td>\n",
       "      <td>0.238039</td>\n",
       "      <td>0.730104</td>\n",
       "      <td>0.383640</td>\n",
       "      <td>0.439865</td>\n",
       "      <td>0.333091</td>\n",
       "      <td>0.735542</td>\n",
       "      <td>...</td>\n",
       "      <td>0.423726</td>\n",
       "      <td>0.591998</td>\n",
       "      <td>0.482158</td>\n",
       "      <td>0.365507</td>\n",
       "      <td>0.372470</td>\n",
       "      <td>0.337441</td>\n",
       "      <td>0.368906</td>\n",
       "      <td>0.576928</td>\n",
       "      <td>0.536500</td>\n",
       "      <td>1.0</td>\n",
       "    </tr>\n",
       "    <tr>\n",
       "      <th>3</th>\n",
       "      <td>0.419479</td>\n",
       "      <td>0.284885</td>\n",
       "      <td>0.299801</td>\n",
       "      <td>0.466293</td>\n",
       "      <td>0.519207</td>\n",
       "      <td>0.471024</td>\n",
       "      <td>0.601611</td>\n",
       "      <td>0.442310</td>\n",
       "      <td>0.486457</td>\n",
       "      <td>0.628480</td>\n",
       "      <td>...</td>\n",
       "      <td>0.660233</td>\n",
       "      <td>0.443502</td>\n",
       "      <td>0.578453</td>\n",
       "      <td>0.544214</td>\n",
       "      <td>0.541356</td>\n",
       "      <td>0.452928</td>\n",
       "      <td>0.353136</td>\n",
       "      <td>0.591958</td>\n",
       "      <td>0.620773</td>\n",
       "      <td>1.0</td>\n",
       "    </tr>\n",
       "    <tr>\n",
       "      <th>4</th>\n",
       "      <td>0.563124</td>\n",
       "      <td>0.485997</td>\n",
       "      <td>0.531946</td>\n",
       "      <td>0.532138</td>\n",
       "      <td>0.472720</td>\n",
       "      <td>0.450243</td>\n",
       "      <td>0.746844</td>\n",
       "      <td>0.242323</td>\n",
       "      <td>0.767916</td>\n",
       "      <td>0.497159</td>\n",
       "      <td>...</td>\n",
       "      <td>0.526667</td>\n",
       "      <td>0.443528</td>\n",
       "      <td>0.414979</td>\n",
       "      <td>0.417109</td>\n",
       "      <td>0.544803</td>\n",
       "      <td>0.480563</td>\n",
       "      <td>0.626479</td>\n",
       "      <td>0.438063</td>\n",
       "      <td>0.562606</td>\n",
       "      <td>0.0</td>\n",
       "    </tr>\n",
       "  </tbody>\n",
       "</table>\n",
       "<p>5 rows × 51 columns</p>\n",
       "</div>"
      ],
      "text/plain": [
       "   feature1  feature2  feature3  feature4  feature5  feature6  feature7  \\\n",
       "0  0.360233  0.400324  0.376192  0.625575  0.578128  0.456694  0.366812   \n",
       "1  0.524941  0.562669  0.594656  0.691748  0.780364  0.507443  0.473722   \n",
       "2  0.375577  0.343138  0.442795  0.549371  0.238039  0.730104  0.383640   \n",
       "3  0.419479  0.284885  0.299801  0.466293  0.519207  0.471024  0.601611   \n",
       "4  0.563124  0.485997  0.531946  0.532138  0.472720  0.450243  0.746844   \n",
       "\n",
       "   feature8  feature9  feature10   ...    feature42  feature43  feature44  \\\n",
       "0  0.354266  0.498456   0.539569   ...     0.538909   0.447431   0.544526   \n",
       "1  0.499549  0.668819   0.289693   ...     0.422837   0.174319   0.511849   \n",
       "2  0.439865  0.333091   0.735542   ...     0.423726   0.591998   0.482158   \n",
       "3  0.442310  0.486457   0.628480   ...     0.660233   0.443502   0.578453   \n",
       "4  0.242323  0.767916   0.497159   ...     0.526667   0.443528   0.414979   \n",
       "\n",
       "   feature45  feature46  feature47  feature48  feature49  feature50  target  \n",
       "0   0.574966   0.382544   0.465450   0.336393   0.577600   0.716399     1.0  \n",
       "1   0.681012   0.506451   0.428276   0.408187   0.721181   0.738231     1.0  \n",
       "2   0.365507   0.372470   0.337441   0.368906   0.576928   0.536500     1.0  \n",
       "3   0.544214   0.541356   0.452928   0.353136   0.591958   0.620773     1.0  \n",
       "4   0.417109   0.544803   0.480563   0.626479   0.438063   0.562606     0.0  \n",
       "\n",
       "[5 rows x 51 columns]"
      ]
     },
     "execution_count": 6,
     "metadata": {},
     "output_type": "execute_result"
    }
   ],
   "source": [
    "train_data.head()"
   ]
  },
  {
   "cell_type": "code",
   "execution_count": 7,
   "metadata": {
    "collapsed": false
   },
   "outputs": [
    {
     "data": {
      "text/plain": [
       "(260766, 51)"
      ]
     },
     "execution_count": 7,
     "metadata": {},
     "output_type": "execute_result"
    }
   ],
   "source": [
    "#dimensions of data\n",
    "train_data.shape"
   ]
  },
  {
   "cell_type": "code",
   "execution_count": 8,
   "metadata": {
    "collapsed": false
   },
   "outputs": [
    {
     "data": {
      "text/plain": [
       "'\\n#determining number of rows for limited dataset to upload to github (max 100 mb)\\ngithub_max = 100\\nfile_size = 120\\nmax_rows = int(round(github_max/file_size*data.shape[0],-3))\\n\\ntrain_data_limited = train_data[0:max_rows]\\ntest_data_limited = test_data[0:max_rows]\\n\\ntrain_data_limited.to_csv(\\'numerai_training_data_limited.csv\\')\\ntest_data_limited.to_csv(\\'numerai_tournament_data_limited.csv\\')\\nprint \"The first \"+ str(max_rows) +\" rows of the data were added to limited datasets\"\\n'"
      ]
     },
     "execution_count": 8,
     "metadata": {},
     "output_type": "execute_result"
    }
   ],
   "source": [
    "#rerunning the lines of code below will overwrite data_limited files\n",
    "\n",
    "\"\"\"\n",
    "#determining number of rows for limited dataset to upload to github (max 100 mb)\n",
    "github_max = 100\n",
    "file_size = 120\n",
    "max_rows = int(round(github_max/file_size*data.shape[0],-3))\n",
    "\n",
    "train_data_limited = train_data[0:max_rows]\n",
    "test_data_limited = test_data[0:max_rows]\n",
    "\n",
    "train_data_limited.to_csv('numerai_training_data_limited.csv')\n",
    "test_data_limited.to_csv('numerai_tournament_data_limited.csv')\n",
    "print \"The first \"+ str(max_rows) +\" rows of the data were added to limited datasets\"\n",
    "\"\"\""
   ]
  },
  {
   "cell_type": "code",
   "execution_count": null,
   "metadata": {
    "collapsed": false
   },
   "outputs": [],
   "source": []
  },
  {
   "cell_type": "code",
   "execution_count": 9,
   "metadata": {
    "collapsed": false
   },
   "outputs": [
    {
     "data": {
      "text/html": [
       "<div>\n",
       "<table border=\"1\" class=\"dataframe\">\n",
       "  <thead>\n",
       "    <tr style=\"text-align: right;\">\n",
       "      <th></th>\n",
       "      <th>feature1</th>\n",
       "      <th>feature2</th>\n",
       "      <th>feature3</th>\n",
       "      <th>feature4</th>\n",
       "      <th>feature5</th>\n",
       "      <th>feature6</th>\n",
       "      <th>feature7</th>\n",
       "      <th>feature8</th>\n",
       "      <th>feature9</th>\n",
       "      <th>feature10</th>\n",
       "      <th>...</th>\n",
       "      <th>feature42</th>\n",
       "      <th>feature43</th>\n",
       "      <th>feature44</th>\n",
       "      <th>feature45</th>\n",
       "      <th>feature46</th>\n",
       "      <th>feature47</th>\n",
       "      <th>feature48</th>\n",
       "      <th>feature49</th>\n",
       "      <th>feature50</th>\n",
       "      <th>target</th>\n",
       "    </tr>\n",
       "  </thead>\n",
       "  <tbody>\n",
       "    <tr>\n",
       "      <th>0</th>\n",
       "      <td>0.360233</td>\n",
       "      <td>0.400324</td>\n",
       "      <td>0.376192</td>\n",
       "      <td>0.625575</td>\n",
       "      <td>0.578128</td>\n",
       "      <td>0.456694</td>\n",
       "      <td>0.366812</td>\n",
       "      <td>0.354266</td>\n",
       "      <td>0.498456</td>\n",
       "      <td>0.539569</td>\n",
       "      <td>...</td>\n",
       "      <td>0.538909</td>\n",
       "      <td>0.447431</td>\n",
       "      <td>0.544526</td>\n",
       "      <td>0.574966</td>\n",
       "      <td>0.382544</td>\n",
       "      <td>0.46545</td>\n",
       "      <td>0.336393</td>\n",
       "      <td>0.5776</td>\n",
       "      <td>0.716399</td>\n",
       "      <td>1.0</td>\n",
       "    </tr>\n",
       "  </tbody>\n",
       "</table>\n",
       "<p>1 rows × 51 columns</p>\n",
       "</div>"
      ],
      "text/plain": [
       "   feature1  feature2  feature3  feature4  feature5  feature6  feature7  \\\n",
       "0  0.360233  0.400324  0.376192  0.625575  0.578128  0.456694  0.366812   \n",
       "\n",
       "   feature8  feature9  feature10   ...    feature42  feature43  feature44  \\\n",
       "0  0.354266  0.498456   0.539569   ...     0.538909   0.447431   0.544526   \n",
       "\n",
       "   feature45  feature46  feature47  feature48  feature49  feature50  target  \n",
       "0   0.574966   0.382544    0.46545   0.336393     0.5776   0.716399     1.0  \n",
       "\n",
       "[1 rows x 51 columns]"
      ]
     },
     "execution_count": 9,
     "metadata": {},
     "output_type": "execute_result"
    }
   ],
   "source": [
    "first_row = train_data[0:1]\n",
    "first_row"
   ]
  },
  {
   "cell_type": "code",
   "execution_count": 10,
   "metadata": {
    "collapsed": false
   },
   "outputs": [
    {
     "data": {
      "text/plain": [
       "0         0.360233\n",
       "1         0.524941\n",
       "2         0.375577\n",
       "3         0.419479\n",
       "4         0.563124\n",
       "5         0.732232\n",
       "6         0.500674\n",
       "7         0.496982\n",
       "8         0.516010\n",
       "9         0.325679\n",
       "10        0.615414\n",
       "11        0.473327\n",
       "12        0.275815\n",
       "13        0.279551\n",
       "14        0.652488\n",
       "15        0.532997\n",
       "16        0.443737\n",
       "17        0.492230\n",
       "18        0.538208\n",
       "19        0.433338\n",
       "20        0.692012\n",
       "21        0.513038\n",
       "22        0.379924\n",
       "23        0.632134\n",
       "24        0.382237\n",
       "25        0.427203\n",
       "26        0.575131\n",
       "27        0.442043\n",
       "28        0.571538\n",
       "29        0.418257\n",
       "            ...   \n",
       "260736    0.364066\n",
       "260737    0.398505\n",
       "260738    0.543030\n",
       "260739    0.399012\n",
       "260740    0.514064\n",
       "260741    0.230285\n",
       "260742    0.514187\n",
       "260743    0.422090\n",
       "260744    0.701840\n",
       "260745    0.470094\n",
       "260746    0.503395\n",
       "260747    0.322674\n",
       "260748    0.540157\n",
       "260749    0.451574\n",
       "260750    0.461459\n",
       "260751    0.354464\n",
       "260752    0.734633\n",
       "260753    0.569964\n",
       "260754    0.340725\n",
       "260755    0.324002\n",
       "260756    0.908379\n",
       "260757    0.307812\n",
       "260758    0.802626\n",
       "260759    0.597272\n",
       "260760    0.531261\n",
       "260761    0.494903\n",
       "260762    0.599877\n",
       "260763    0.426627\n",
       "260764    0.345536\n",
       "260765    0.356547\n",
       "Name: feature1, dtype: float64"
      ]
     },
     "execution_count": 10,
     "metadata": {},
     "output_type": "execute_result"
    }
   ],
   "source": [
    "first_column = train_data['feature1']\n",
    "first_column"
   ]
  },
  {
   "cell_type": "code",
   "execution_count": 11,
   "metadata": {
    "collapsed": false
   },
   "outputs": [],
   "source": [
    "#Plot out what feature1 looks like\n",
    "plt.hist(first_column, bins=50)\n",
    "plt.title('Distribution of Feature1')\n",
    "plt.ylabel('Frequency')\n",
    "\n",
    "plt.show()"
   ]
  },
  {
   "cell_type": "code",
   "execution_count": null,
   "metadata": {
    "collapsed": true
   },
   "outputs": [],
   "source": []
  },
  {
   "cell_type": "code",
   "execution_count": null,
   "metadata": {
    "collapsed": true
   },
   "outputs": [],
   "source": []
  }
 ],
 "metadata": {
  "kernelspec": {
   "display_name": "Python 2",
   "language": "python",
   "name": "python2"
  },
  "language_info": {
   "codemirror_mode": {
    "name": "ipython",
    "version": 2
   },
   "file_extension": ".py",
   "mimetype": "text/x-python",
   "name": "python",
   "nbconvert_exporter": "python",
   "pygments_lexer": "ipython2",
   "version": "2.7.12"
  }
 },
 "nbformat": 4,
 "nbformat_minor": 0
}
