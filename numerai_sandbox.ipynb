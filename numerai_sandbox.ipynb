{
 "cells": [
  {
   "cell_type": "code",
   "execution_count": 39,
   "metadata": {
    "collapsed": true
   },
   "outputs": [],
   "source": [
    "from __future__ import division\n",
    "import itertools\n",
    "import numpy as np\n",
    "import pandas as pd\n",
    "import matplotlib.pyplot as plt\n",
    "from sklearn import linear_model\n",
    "from sklearn.preprocessing import LabelEncoder\n",
    "from sklearn.cross_validation import train_test_split\n",
    "from sklearn.metrics import confusion_matrix, f1_score"
   ]
  },
  {
   "cell_type": "code",
   "execution_count": null,
   "metadata": {
    "collapsed": true
   },
   "outputs": [],
   "source": []
  },
  {
   "cell_type": "code",
   "execution_count": null,
   "metadata": {
    "collapsed": true
   },
   "outputs": [],
   "source": []
  },
  {
   "cell_type": "code",
   "execution_count": 40,
   "metadata": {
    "collapsed": true
   },
   "outputs": [],
   "source": [
    "#### HELPER FUNCTIONS ####"
   ]
  },
  {
   "cell_type": "code",
   "execution_count": 41,
   "metadata": {
    "collapsed": true
   },
   "outputs": [],
   "source": [
    "def plot_confusion_matrix(cm, classes,\n",
    "                          normalize=False,\n",
    "                          title='Confusion matrix',\n",
    "                          cmap=plt.cm.Blues):\n",
    "    \"\"\"\n",
    "    This function prints and plots the confusion matrix.\n",
    "    Normalization can be applied by setting `normalize=True`.\n",
    "    \"\"\"\n",
    "    plt.imshow(cm, interpolation='nearest', cmap=cmap)\n",
    "    plt.title(title)\n",
    "    plt.colorbar()\n",
    "    tick_marks = np.arange(len(classes))\n",
    "    plt.xticks(tick_marks, classes, rotation=45)\n",
    "    plt.yticks(tick_marks, classes)\n",
    "\n",
    "    if normalize:\n",
    "        cm = cm.astype('float') / cm.sum(axis=1)[:, np.newaxis]\n",
    "        print(\"Normalized confusion matrix\")\n",
    "    else:\n",
    "        print('Confusion matrix, without normalization')\n",
    "\n",
    "    print(cm)\n",
    "\n",
    "    thresh = cm.max() / 2.\n",
    "    for i, j in itertools.product(range(cm.shape[0]), range(cm.shape[1])):\n",
    "        plt.text(j, i, cm[i, j],\n",
    "                 horizontalalignment=\"center\",\n",
    "                 color=\"white\" if cm[i, j] > thresh else \"black\")\n",
    "\n",
    "    plt.tight_layout()\n",
    "    plt.ylabel('True label')\n",
    "    plt.xlabel('Predicted label')"
   ]
  },
  {
   "cell_type": "code",
   "execution_count": 42,
   "metadata": {
    "collapsed": true
   },
   "outputs": [],
   "source": [
    "def create_labels(df, column):\n",
    "    l = df[column].tolist()\n",
    "    label_encoder = LabelEncoder()\n",
    "    return label_encoder.fit_transform(l), dict(set(zip(l, label_encoder.fit_transform(l))))\n",
    "\n",
    "\n",
    "def create_labels_from_list(l):\n",
    "    label_encoder = LabelEncoder()\n",
    "    return label_encoder.fit_transform(l), dict(set(zip(l, label_encoder.fit_transform(l))))\n"
   ]
  },
  {
   "cell_type": "code",
   "execution_count": null,
   "metadata": {
    "collapsed": true
   },
   "outputs": [],
   "source": []
  },
  {
   "cell_type": "code",
   "execution_count": null,
   "metadata": {
    "collapsed": true
   },
   "outputs": [],
   "source": []
  },
  {
   "cell_type": "code",
   "execution_count": 43,
   "metadata": {
    "collapsed": true
   },
   "outputs": [],
   "source": [
    "#### LOAD DATA ####"
   ]
  },
  {
   "cell_type": "code",
   "execution_count": 44,
   "metadata": {
    "collapsed": false
   },
   "outputs": [],
   "source": [
    "try:\n",
    "    training_data = pd.read_csv(\"numerai_training_data.csv\")\n",
    "    tournament_data = pd.read_csv(\"numerai_tournament_data.csv\")\n",
    "except:\n",
    "    try:\n",
    "        training_data = pd.read_csv(\"numerai_training_data_limited.csv\")\n",
    "        tournament_data = pd.read_csv(\"numerai_tournament_data_limited.csv\")\n",
    "    except:\n",
    "        print \"error - pure sadness. you have no data files in this directory\"\n",
    "    "
   ]
  },
  {
   "cell_type": "code",
   "execution_count": 45,
   "metadata": {
    "collapsed": false
   },
   "outputs": [
    {
     "data": {
      "text/plain": [
       "'\\n#determining number of rows for limited dataset to upload to github (max 100 mb)\\ngithub_max = 100\\nfile_size = 120\\nmax_rows = int(round(github_max/file_size*data.shape[0],-3))\\n\\ntrain_data_limited = train_data[0:max_rows]\\ntest_data_limited = test_data[0:max_rows]\\n\\ntrain_data_limited.to_csv(\\'numerai_training_data_limited.csv\\')\\ntest_data_limited.to_csv(\\'numerai_tournament_data_limited.csv\\')\\nprint \"The first \"+ str(max_rows) +\" rows of the data were added to limited datasets\"\\n'"
      ]
     },
     "execution_count": 45,
     "metadata": {},
     "output_type": "execute_result"
    }
   ],
   "source": [
    "#rerunning the lines of code below will overwrite data_limited files\n",
    "\n",
    "\"\"\"\n",
    "#determining number of rows for limited dataset to upload to github (max 100 mb)\n",
    "github_max = 100\n",
    "file_size = 120\n",
    "max_rows = int(round(github_max/file_size*data.shape[0],-3))\n",
    "\n",
    "train_data_limited = train_data[0:max_rows]\n",
    "test_data_limited = test_data[0:max_rows]\n",
    "\n",
    "train_data_limited.to_csv('numerai_training_data_limited.csv')\n",
    "test_data_limited.to_csv('numerai_tournament_data_limited.csv')\n",
    "print \"The first \"+ str(max_rows) +\" rows of the data were added to limited datasets\"\n",
    "\"\"\""
   ]
  },
  {
   "cell_type": "code",
   "execution_count": null,
   "metadata": {
    "collapsed": true
   },
   "outputs": [],
   "source": []
  },
  {
   "cell_type": "code",
   "execution_count": null,
   "metadata": {
    "collapsed": true
   },
   "outputs": [],
   "source": []
  },
  {
   "cell_type": "code",
   "execution_count": 46,
   "metadata": {
    "collapsed": true
   },
   "outputs": [],
   "source": [
    "#### EXPLORE DATA ####"
   ]
  },
  {
   "cell_type": "code",
   "execution_count": 48,
   "metadata": {
    "collapsed": false
   },
   "outputs": [
    {
     "data": {
      "text/html": [
       "<div>\n",
       "<table border=\"1\" class=\"dataframe\">\n",
       "  <thead>\n",
       "    <tr style=\"text-align: right;\">\n",
       "      <th></th>\n",
       "      <th>feature1</th>\n",
       "      <th>feature2</th>\n",
       "      <th>feature3</th>\n",
       "      <th>feature4</th>\n",
       "      <th>feature5</th>\n",
       "      <th>feature6</th>\n",
       "      <th>feature7</th>\n",
       "      <th>feature8</th>\n",
       "      <th>feature9</th>\n",
       "      <th>feature10</th>\n",
       "      <th>...</th>\n",
       "      <th>feature42</th>\n",
       "      <th>feature43</th>\n",
       "      <th>feature44</th>\n",
       "      <th>feature45</th>\n",
       "      <th>feature46</th>\n",
       "      <th>feature47</th>\n",
       "      <th>feature48</th>\n",
       "      <th>feature49</th>\n",
       "      <th>feature50</th>\n",
       "      <th>target</th>\n",
       "    </tr>\n",
       "  </thead>\n",
       "  <tbody>\n",
       "    <tr>\n",
       "      <th>0</th>\n",
       "      <td>0.360233</td>\n",
       "      <td>0.400324</td>\n",
       "      <td>0.376192</td>\n",
       "      <td>0.625575</td>\n",
       "      <td>0.578128</td>\n",
       "      <td>0.456694</td>\n",
       "      <td>0.366812</td>\n",
       "      <td>0.354266</td>\n",
       "      <td>0.498456</td>\n",
       "      <td>0.539569</td>\n",
       "      <td>...</td>\n",
       "      <td>0.538909</td>\n",
       "      <td>0.447431</td>\n",
       "      <td>0.544526</td>\n",
       "      <td>0.574966</td>\n",
       "      <td>0.382544</td>\n",
       "      <td>0.465450</td>\n",
       "      <td>0.336393</td>\n",
       "      <td>0.577600</td>\n",
       "      <td>0.716399</td>\n",
       "      <td>1.0</td>\n",
       "    </tr>\n",
       "    <tr>\n",
       "      <th>1</th>\n",
       "      <td>0.524941</td>\n",
       "      <td>0.562669</td>\n",
       "      <td>0.594656</td>\n",
       "      <td>0.691748</td>\n",
       "      <td>0.780364</td>\n",
       "      <td>0.507443</td>\n",
       "      <td>0.473722</td>\n",
       "      <td>0.499549</td>\n",
       "      <td>0.668819</td>\n",
       "      <td>0.289693</td>\n",
       "      <td>...</td>\n",
       "      <td>0.422837</td>\n",
       "      <td>0.174319</td>\n",
       "      <td>0.511849</td>\n",
       "      <td>0.681012</td>\n",
       "      <td>0.506451</td>\n",
       "      <td>0.428276</td>\n",
       "      <td>0.408187</td>\n",
       "      <td>0.721181</td>\n",
       "      <td>0.738231</td>\n",
       "      <td>1.0</td>\n",
       "    </tr>\n",
       "    <tr>\n",
       "      <th>2</th>\n",
       "      <td>0.375577</td>\n",
       "      <td>0.343138</td>\n",
       "      <td>0.442795</td>\n",
       "      <td>0.549371</td>\n",
       "      <td>0.238039</td>\n",
       "      <td>0.730104</td>\n",
       "      <td>0.383640</td>\n",
       "      <td>0.439865</td>\n",
       "      <td>0.333091</td>\n",
       "      <td>0.735542</td>\n",
       "      <td>...</td>\n",
       "      <td>0.423726</td>\n",
       "      <td>0.591998</td>\n",
       "      <td>0.482158</td>\n",
       "      <td>0.365507</td>\n",
       "      <td>0.372470</td>\n",
       "      <td>0.337441</td>\n",
       "      <td>0.368906</td>\n",
       "      <td>0.576928</td>\n",
       "      <td>0.536500</td>\n",
       "      <td>1.0</td>\n",
       "    </tr>\n",
       "    <tr>\n",
       "      <th>3</th>\n",
       "      <td>0.419479</td>\n",
       "      <td>0.284885</td>\n",
       "      <td>0.299801</td>\n",
       "      <td>0.466293</td>\n",
       "      <td>0.519207</td>\n",
       "      <td>0.471024</td>\n",
       "      <td>0.601611</td>\n",
       "      <td>0.442310</td>\n",
       "      <td>0.486457</td>\n",
       "      <td>0.628480</td>\n",
       "      <td>...</td>\n",
       "      <td>0.660233</td>\n",
       "      <td>0.443502</td>\n",
       "      <td>0.578453</td>\n",
       "      <td>0.544214</td>\n",
       "      <td>0.541356</td>\n",
       "      <td>0.452928</td>\n",
       "      <td>0.353136</td>\n",
       "      <td>0.591958</td>\n",
       "      <td>0.620773</td>\n",
       "      <td>1.0</td>\n",
       "    </tr>\n",
       "    <tr>\n",
       "      <th>4</th>\n",
       "      <td>0.563124</td>\n",
       "      <td>0.485997</td>\n",
       "      <td>0.531946</td>\n",
       "      <td>0.532138</td>\n",
       "      <td>0.472720</td>\n",
       "      <td>0.450243</td>\n",
       "      <td>0.746844</td>\n",
       "      <td>0.242323</td>\n",
       "      <td>0.767916</td>\n",
       "      <td>0.497159</td>\n",
       "      <td>...</td>\n",
       "      <td>0.526667</td>\n",
       "      <td>0.443528</td>\n",
       "      <td>0.414979</td>\n",
       "      <td>0.417109</td>\n",
       "      <td>0.544803</td>\n",
       "      <td>0.480563</td>\n",
       "      <td>0.626479</td>\n",
       "      <td>0.438063</td>\n",
       "      <td>0.562606</td>\n",
       "      <td>0.0</td>\n",
       "    </tr>\n",
       "  </tbody>\n",
       "</table>\n",
       "<p>5 rows × 51 columns</p>\n",
       "</div>"
      ],
      "text/plain": [
       "   feature1  feature2  feature3  feature4  feature5  feature6  feature7  \\\n",
       "0  0.360233  0.400324  0.376192  0.625575  0.578128  0.456694  0.366812   \n",
       "1  0.524941  0.562669  0.594656  0.691748  0.780364  0.507443  0.473722   \n",
       "2  0.375577  0.343138  0.442795  0.549371  0.238039  0.730104  0.383640   \n",
       "3  0.419479  0.284885  0.299801  0.466293  0.519207  0.471024  0.601611   \n",
       "4  0.563124  0.485997  0.531946  0.532138  0.472720  0.450243  0.746844   \n",
       "\n",
       "   feature8  feature9  feature10   ...    feature42  feature43  feature44  \\\n",
       "0  0.354266  0.498456   0.539569   ...     0.538909   0.447431   0.544526   \n",
       "1  0.499549  0.668819   0.289693   ...     0.422837   0.174319   0.511849   \n",
       "2  0.439865  0.333091   0.735542   ...     0.423726   0.591998   0.482158   \n",
       "3  0.442310  0.486457   0.628480   ...     0.660233   0.443502   0.578453   \n",
       "4  0.242323  0.767916   0.497159   ...     0.526667   0.443528   0.414979   \n",
       "\n",
       "   feature45  feature46  feature47  feature48  feature49  feature50  target  \n",
       "0   0.574966   0.382544   0.465450   0.336393   0.577600   0.716399     1.0  \n",
       "1   0.681012   0.506451   0.428276   0.408187   0.721181   0.738231     1.0  \n",
       "2   0.365507   0.372470   0.337441   0.368906   0.576928   0.536500     1.0  \n",
       "3   0.544214   0.541356   0.452928   0.353136   0.591958   0.620773     1.0  \n",
       "4   0.417109   0.544803   0.480563   0.626479   0.438063   0.562606     0.0  \n",
       "\n",
       "[5 rows x 51 columns]"
      ]
     },
     "execution_count": 48,
     "metadata": {},
     "output_type": "execute_result"
    }
   ],
   "source": [
    "#print out the first five rows of data set\n",
    "training_data.head()\n"
   ]
  },
  {
   "cell_type": "code",
   "execution_count": 49,
   "metadata": {
    "collapsed": false
   },
   "outputs": [
    {
     "data": {
      "text/html": [
       "<div>\n",
       "<table border=\"1\" class=\"dataframe\">\n",
       "  <thead>\n",
       "    <tr style=\"text-align: right;\">\n",
       "      <th></th>\n",
       "      <th>feature1</th>\n",
       "      <th>feature2</th>\n",
       "      <th>feature3</th>\n",
       "      <th>feature4</th>\n",
       "      <th>feature5</th>\n",
       "      <th>feature6</th>\n",
       "      <th>feature7</th>\n",
       "      <th>feature8</th>\n",
       "      <th>feature9</th>\n",
       "      <th>feature10</th>\n",
       "      <th>...</th>\n",
       "      <th>feature42</th>\n",
       "      <th>feature43</th>\n",
       "      <th>feature44</th>\n",
       "      <th>feature45</th>\n",
       "      <th>feature46</th>\n",
       "      <th>feature47</th>\n",
       "      <th>feature48</th>\n",
       "      <th>feature49</th>\n",
       "      <th>feature50</th>\n",
       "      <th>target</th>\n",
       "    </tr>\n",
       "  </thead>\n",
       "  <tbody>\n",
       "    <tr>\n",
       "      <th>260761</th>\n",
       "      <td>0.494903</td>\n",
       "      <td>0.772782</td>\n",
       "      <td>0.613383</td>\n",
       "      <td>0.501510</td>\n",
       "      <td>0.630539</td>\n",
       "      <td>0.369024</td>\n",
       "      <td>0.406424</td>\n",
       "      <td>0.642597</td>\n",
       "      <td>0.707465</td>\n",
       "      <td>0.385961</td>\n",
       "      <td>...</td>\n",
       "      <td>0.531644</td>\n",
       "      <td>0.446273</td>\n",
       "      <td>0.452734</td>\n",
       "      <td>0.452141</td>\n",
       "      <td>0.450239</td>\n",
       "      <td>0.525593</td>\n",
       "      <td>0.653099</td>\n",
       "      <td>0.406829</td>\n",
       "      <td>0.400346</td>\n",
       "      <td>1.0</td>\n",
       "    </tr>\n",
       "    <tr>\n",
       "      <th>260762</th>\n",
       "      <td>0.599877</td>\n",
       "      <td>0.725248</td>\n",
       "      <td>0.612162</td>\n",
       "      <td>0.593145</td>\n",
       "      <td>0.567411</td>\n",
       "      <td>0.546543</td>\n",
       "      <td>0.687254</td>\n",
       "      <td>0.665792</td>\n",
       "      <td>0.551152</td>\n",
       "      <td>0.372492</td>\n",
       "      <td>...</td>\n",
       "      <td>0.448736</td>\n",
       "      <td>0.547254</td>\n",
       "      <td>0.499786</td>\n",
       "      <td>0.517084</td>\n",
       "      <td>0.532767</td>\n",
       "      <td>0.777985</td>\n",
       "      <td>0.683546</td>\n",
       "      <td>0.579801</td>\n",
       "      <td>0.370434</td>\n",
       "      <td>1.0</td>\n",
       "    </tr>\n",
       "    <tr>\n",
       "      <th>260763</th>\n",
       "      <td>0.426627</td>\n",
       "      <td>0.646534</td>\n",
       "      <td>0.672396</td>\n",
       "      <td>0.423245</td>\n",
       "      <td>0.363507</td>\n",
       "      <td>0.590633</td>\n",
       "      <td>0.605406</td>\n",
       "      <td>0.811512</td>\n",
       "      <td>0.407315</td>\n",
       "      <td>0.427820</td>\n",
       "      <td>...</td>\n",
       "      <td>0.390572</td>\n",
       "      <td>0.548869</td>\n",
       "      <td>0.426954</td>\n",
       "      <td>0.269059</td>\n",
       "      <td>0.484017</td>\n",
       "      <td>0.656474</td>\n",
       "      <td>0.797997</td>\n",
       "      <td>0.488521</td>\n",
       "      <td>0.093011</td>\n",
       "      <td>1.0</td>\n",
       "    </tr>\n",
       "    <tr>\n",
       "      <th>260764</th>\n",
       "      <td>0.345536</td>\n",
       "      <td>0.282349</td>\n",
       "      <td>0.350594</td>\n",
       "      <td>0.512924</td>\n",
       "      <td>0.555426</td>\n",
       "      <td>0.419745</td>\n",
       "      <td>0.354981</td>\n",
       "      <td>0.459965</td>\n",
       "      <td>0.510418</td>\n",
       "      <td>0.572683</td>\n",
       "      <td>...</td>\n",
       "      <td>0.735401</td>\n",
       "      <td>0.262207</td>\n",
       "      <td>0.441347</td>\n",
       "      <td>0.669045</td>\n",
       "      <td>0.475064</td>\n",
       "      <td>0.465721</td>\n",
       "      <td>0.336502</td>\n",
       "      <td>0.350719</td>\n",
       "      <td>0.689290</td>\n",
       "      <td>1.0</td>\n",
       "    </tr>\n",
       "    <tr>\n",
       "      <th>260765</th>\n",
       "      <td>0.356547</td>\n",
       "      <td>0.591591</td>\n",
       "      <td>0.506552</td>\n",
       "      <td>0.572069</td>\n",
       "      <td>0.506632</td>\n",
       "      <td>0.362448</td>\n",
       "      <td>0.442549</td>\n",
       "      <td>0.507590</td>\n",
       "      <td>0.559326</td>\n",
       "      <td>0.566939</td>\n",
       "      <td>...</td>\n",
       "      <td>0.542306</td>\n",
       "      <td>0.357975</td>\n",
       "      <td>0.517278</td>\n",
       "      <td>0.440438</td>\n",
       "      <td>0.436393</td>\n",
       "      <td>0.585718</td>\n",
       "      <td>0.598760</td>\n",
       "      <td>0.368111</td>\n",
       "      <td>0.492057</td>\n",
       "      <td>1.0</td>\n",
       "    </tr>\n",
       "  </tbody>\n",
       "</table>\n",
       "<p>5 rows × 51 columns</p>\n",
       "</div>"
      ],
      "text/plain": [
       "        feature1  feature2  feature3  feature4  feature5  feature6  feature7  \\\n",
       "260761  0.494903  0.772782  0.613383  0.501510  0.630539  0.369024  0.406424   \n",
       "260762  0.599877  0.725248  0.612162  0.593145  0.567411  0.546543  0.687254   \n",
       "260763  0.426627  0.646534  0.672396  0.423245  0.363507  0.590633  0.605406   \n",
       "260764  0.345536  0.282349  0.350594  0.512924  0.555426  0.419745  0.354981   \n",
       "260765  0.356547  0.591591  0.506552  0.572069  0.506632  0.362448  0.442549   \n",
       "\n",
       "        feature8  feature9  feature10   ...    feature42  feature43  \\\n",
       "260761  0.642597  0.707465   0.385961   ...     0.531644   0.446273   \n",
       "260762  0.665792  0.551152   0.372492   ...     0.448736   0.547254   \n",
       "260763  0.811512  0.407315   0.427820   ...     0.390572   0.548869   \n",
       "260764  0.459965  0.510418   0.572683   ...     0.735401   0.262207   \n",
       "260765  0.507590  0.559326   0.566939   ...     0.542306   0.357975   \n",
       "\n",
       "        feature44  feature45  feature46  feature47  feature48  feature49  \\\n",
       "260761   0.452734   0.452141   0.450239   0.525593   0.653099   0.406829   \n",
       "260762   0.499786   0.517084   0.532767   0.777985   0.683546   0.579801   \n",
       "260763   0.426954   0.269059   0.484017   0.656474   0.797997   0.488521   \n",
       "260764   0.441347   0.669045   0.475064   0.465721   0.336502   0.350719   \n",
       "260765   0.517278   0.440438   0.436393   0.585718   0.598760   0.368111   \n",
       "\n",
       "        feature50  target  \n",
       "260761   0.400346     1.0  \n",
       "260762   0.370434     1.0  \n",
       "260763   0.093011     1.0  \n",
       "260764   0.689290     1.0  \n",
       "260765   0.492057     1.0  \n",
       "\n",
       "[5 rows x 51 columns]"
      ]
     },
     "execution_count": 49,
     "metadata": {},
     "output_type": "execute_result"
    }
   ],
   "source": [
    "#print out the last five rows of data set\n",
    "training_data.tail()"
   ]
  },
  {
   "cell_type": "code",
   "execution_count": 51,
   "metadata": {
    "collapsed": false
   },
   "outputs": [
    {
     "name": "stdout",
     "output_type": "stream",
     "text": [
      "number of rows = 260766\n",
      "number of cols = 51\n"
     ]
    }
   ],
   "source": [
    "#dimensions of data\n",
    "dims = training_data.shape\n",
    "rows = dims[0]\n",
    "cols = dims[1]\n",
    "print \"number of rows = \"+ str(rows)\n",
    "print \"number of cols = \"+ str(cols)"
   ]
  },
  {
   "cell_type": "code",
   "execution_count": null,
   "metadata": {
    "collapsed": false
   },
   "outputs": [],
   "source": []
  },
  {
   "cell_type": "code",
   "execution_count": null,
   "metadata": {
    "collapsed": false
   },
   "outputs": [],
   "source": []
  },
  {
   "cell_type": "code",
   "execution_count": 52,
   "metadata": {
    "collapsed": false
   },
   "outputs": [],
   "source": [
    "#Plot out what feature1 looks like\n",
    "first_column = training_data['feature1']\n",
    "plt.hist(first_column, bins=50)\n",
    "plt.title('Distribution of Feature1')\n",
    "plt.ylabel('Frequency')\n",
    "\n",
    "plt.show() #this command will open up a new window showing a plot. you must close this new window to continue with the script\n"
   ]
  },
  {
   "cell_type": "code",
   "execution_count": null,
   "metadata": {
    "collapsed": true
   },
   "outputs": [],
   "source": []
  },
  {
   "cell_type": "code",
   "execution_count": null,
   "metadata": {
    "collapsed": true
   },
   "outputs": [],
   "source": []
  },
  {
   "cell_type": "code",
   "execution_count": 53,
   "metadata": {
    "collapsed": true
   },
   "outputs": [],
   "source": [
    "#### CREATE MODEL ####"
   ]
  },
  {
   "cell_type": "code",
   "execution_count": 54,
   "metadata": {
    "collapsed": false
   },
   "outputs": [],
   "source": [
    "## set up train test split ##\n",
    "df = training_data\n",
    "y, class_names = create_labels(df, 'target')\n",
    "X = df.drop('target', axis=1)\n",
    "train_data, test_data, train_labels, test_labels = train_test_split(X,y,test_size=0.25)\n",
    "\n",
    "\n",
    "## create Logistic regression classifier ##\n",
    "classifier = linear_model.LogisticRegression(C=1e5) \n",
    "classifier.fit(train_data, train_labels) \n",
    "predictions = classifier.predict(test_data) \n",
    "cnf_matrix = confusion_matrix(predictions, test_labels)"
   ]
  },
  {
   "cell_type": "code",
   "execution_count": null,
   "metadata": {
    "collapsed": true
   },
   "outputs": [],
   "source": []
  },
  {
   "cell_type": "code",
   "execution_count": null,
   "metadata": {
    "collapsed": true
   },
   "outputs": [],
   "source": []
  },
  {
   "cell_type": "code",
   "execution_count": 55,
   "metadata": {
    "collapsed": true
   },
   "outputs": [],
   "source": [
    "#### MODEL EVALUATION ####"
   ]
  },
  {
   "cell_type": "code",
   "execution_count": 56,
   "metadata": {
    "collapsed": false
   },
   "outputs": [
    {
     "name": "stdout",
     "output_type": "stream",
     "text": [
      "[ 0.51  0.53]\n",
      "0.518782858586\n",
      "Confusion matrix, without normalization\n",
      "[[16253 14990]\n",
      " [16368 17581]]\n",
      "Normalized confusion matrix\n",
      "[[ 0.52  0.48]\n",
      " [ 0.48  0.52]]\n"
     ]
    }
   ],
   "source": [
    "## F1 (accuracy) scoring ##\n",
    "print f1_score(test_labels,predictions,average=None)\n",
    "print f1_score(test_labels,predictions,average='weighted')\n",
    "\n",
    "\n",
    "# Plot non-normalized confusion matrix\n",
    "plt.figure()\n",
    "plot_confusion_matrix(cnf_matrix, classes=class_names,\n",
    "                      title='Confusion matrix, without normalization')\n",
    "\n",
    "# Plot normalized confusion matrix\n",
    "plt.figure()\n",
    "plot_confusion_matrix(cnf_matrix, classes=class_names, normalize=True,\n",
    "                      title='Normalized confusion matrix')\n",
    "\n",
    "plt.show() #this command will open up 2 new windows, each showing one plot. you must close these new window to continue with the script\n",
    "\n"
   ]
  },
  {
   "cell_type": "code",
   "execution_count": null,
   "metadata": {
    "collapsed": true
   },
   "outputs": [],
   "source": []
  }
 ],
 "metadata": {
  "kernelspec": {
   "display_name": "Python 2",
   "language": "python",
   "name": "python2"
  },
  "language_info": {
   "codemirror_mode": {
    "name": "ipython",
    "version": 2
   },
   "file_extension": ".py",
   "mimetype": "text/x-python",
   "name": "python",
   "nbconvert_exporter": "python",
   "pygments_lexer": "ipython2",
   "version": "2.7.12"
  }
 },
 "nbformat": 4,
 "nbformat_minor": 0
}
